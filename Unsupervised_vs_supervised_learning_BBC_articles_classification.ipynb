{
 "cells": [
  {
   "cell_type": "markdown",
   "metadata": {},
   "source": [
    "# Unsupervised vs supervised learning: BBC articles classification\n",
    "\n",
    "This project is related to the Keggle competition \"BBC News Classification\". All information about the dataset and the competion can be found here: https://www.kaggle.com/competitions/learn-ai-bbc"
   ]
  },
  {
   "cell_type": "markdown",
   "metadata": {},
   "source": [
    "--------\n",
    "Exploratory data analysis\n",
    "-----------"
   ]
  },
  {
   "cell_type": "code",
   "execution_count": 222,
   "metadata": {},
   "outputs": [],
   "source": [
    "# installing libraries\n",
    "\n",
    "#%pip install pandas\n",
    "#%pip install numpy\n",
    "#!pip install matplotlib\n",
    "#%pip install -U scikit-learn\n",
    "#%pip install seaborn"
   ]
  },
  {
   "cell_type": "code",
   "execution_count": 1,
   "metadata": {},
   "outputs": [],
   "source": [
    "# importing ibraries\n",
    "\n",
    "import pandas as pd\n",
    "import numpy as np\n",
    "import matplotlib.pyplot as plt\n",
    "%matplotlib inline\n",
    "import seaborn as sns\n",
    "from sklearn.feature_extraction.text import TfidfVectorizer\n",
    "import string\n",
    "from sklearn.metrics import roc_auc_score, accuracy_score\n",
    "from sklearn.metrics import roc_curve\n",
    "from sklearn.model_selection import cross_val_score, GridSearchCV\n",
    "import time\n",
    "from sklearn.metrics import RocCurveDisplay, auc\n",
    "from sklearn import metrics\n",
    "from sklearn.ensemble import AdaBoostClassifier\n",
    "from sklearn.svm import SVC\n",
    "import itertools\n",
    "from sklearn.decomposition import NMF"
   ]
  },
  {
   "cell_type": "code",
   "execution_count": 2,
   "metadata": {
    "collapsed": false,
    "jupyter": {
     "outputs_hidden": false
    }
   },
   "outputs": [],
   "source": [
    "# reading the data\n",
    "train = pd.read_csv('BBC News Train.csv')\n",
    "test = pd.read_csv('BBC News Test.csv')\n",
    "solution_sample = pd.read_csv('BBC News Sample Solution.csv')"
   ]
  },
  {
   "cell_type": "code",
   "execution_count": 3,
   "metadata": {
    "collapsed": false,
    "jupyter": {
     "outputs_hidden": false
    }
   },
   "outputs": [
    {
     "data": {
      "text/html": [
       "<div>\n",
       "<style scoped>\n",
       "    .dataframe tbody tr th:only-of-type {\n",
       "        vertical-align: middle;\n",
       "    }\n",
       "\n",
       "    .dataframe tbody tr th {\n",
       "        vertical-align: top;\n",
       "    }\n",
       "\n",
       "    .dataframe thead th {\n",
       "        text-align: right;\n",
       "    }\n",
       "</style>\n",
       "<table border=\"1\" class=\"dataframe\">\n",
       "  <thead>\n",
       "    <tr style=\"text-align: right;\">\n",
       "      <th></th>\n",
       "      <th>ArticleId</th>\n",
       "      <th>Text</th>\n",
       "      <th>Category</th>\n",
       "    </tr>\n",
       "  </thead>\n",
       "  <tbody>\n",
       "    <tr>\n",
       "      <th>646</th>\n",
       "      <td>758</td>\n",
       "      <td>qwest may spark mci bidding war us phone compa...</td>\n",
       "      <td>business</td>\n",
       "    </tr>\n",
       "    <tr>\n",
       "      <th>281</th>\n",
       "      <td>513</td>\n",
       "      <td>digital guru floats sub-$100 pc nicholas negro...</td>\n",
       "      <td>tech</td>\n",
       "    </tr>\n",
       "    <tr>\n",
       "      <th>1038</th>\n",
       "      <td>1988</td>\n",
       "      <td>tories unveil quango blitz plans plans to abol...</td>\n",
       "      <td>politics</td>\n",
       "    </tr>\n",
       "    <tr>\n",
       "      <th>199</th>\n",
       "      <td>559</td>\n",
       "      <td>mcilroy continues winning streak james mcilroy...</td>\n",
       "      <td>sport</td>\n",
       "    </tr>\n",
       "    <tr>\n",
       "      <th>585</th>\n",
       "      <td>1846</td>\n",
       "      <td>rescue hope for borussia dortmund shares in st...</td>\n",
       "      <td>business</td>\n",
       "    </tr>\n",
       "    <tr>\n",
       "      <th>766</th>\n",
       "      <td>982</td>\n",
       "      <td>tutu s guantanamo release call archbishop desm...</td>\n",
       "      <td>politics</td>\n",
       "    </tr>\n",
       "    <tr>\n",
       "      <th>1308</th>\n",
       "      <td>912</td>\n",
       "      <td>warning over tsunami aid website net users are...</td>\n",
       "      <td>tech</td>\n",
       "    </tr>\n",
       "    <tr>\n",
       "      <th>1059</th>\n",
       "      <td>1363</td>\n",
       "      <td>mobile multimedia slow to catch on there is no...</td>\n",
       "      <td>tech</td>\n",
       "    </tr>\n",
       "    <tr>\n",
       "      <th>551</th>\n",
       "      <td>2023</td>\n",
       "      <td>us data sparks inflation worries wholesale pri...</td>\n",
       "      <td>business</td>\n",
       "    </tr>\n",
       "    <tr>\n",
       "      <th>1190</th>\n",
       "      <td>1186</td>\n",
       "      <td>rich pickings for hi-tech thieves viruses  tro...</td>\n",
       "      <td>tech</td>\n",
       "    </tr>\n",
       "    <tr>\n",
       "      <th>520</th>\n",
       "      <td>492</td>\n",
       "      <td>new york rockers top talent poll new york elec...</td>\n",
       "      <td>entertainment</td>\n",
       "    </tr>\n",
       "    <tr>\n",
       "      <th>88</th>\n",
       "      <td>699</td>\n",
       "      <td>britain boosted by holmes double athletics fan...</td>\n",
       "      <td>sport</td>\n",
       "    </tr>\n",
       "    <tr>\n",
       "      <th>634</th>\n",
       "      <td>1728</td>\n",
       "      <td>serena ends sania mirza s dream sania mirza  t...</td>\n",
       "      <td>sport</td>\n",
       "    </tr>\n",
       "    <tr>\n",
       "      <th>1204</th>\n",
       "      <td>923</td>\n",
       "      <td>budget aston takes on porsche british car make...</td>\n",
       "      <td>business</td>\n",
       "    </tr>\n",
       "    <tr>\n",
       "      <th>990</th>\n",
       "      <td>199</td>\n",
       "      <td>portable playstation ready to go sony s playst...</td>\n",
       "      <td>tech</td>\n",
       "    </tr>\n",
       "    <tr>\n",
       "      <th>34</th>\n",
       "      <td>466</td>\n",
       "      <td>philippoussis doubt over open bid mark philipp...</td>\n",
       "      <td>sport</td>\n",
       "    </tr>\n",
       "    <tr>\n",
       "      <th>154</th>\n",
       "      <td>2044</td>\n",
       "      <td>the year search became personal the odds are t...</td>\n",
       "      <td>tech</td>\n",
       "    </tr>\n",
       "    <tr>\n",
       "      <th>73</th>\n",
       "      <td>1971</td>\n",
       "      <td>balco case trial date pushed back the trial da...</td>\n",
       "      <td>sport</td>\n",
       "    </tr>\n",
       "    <tr>\n",
       "      <th>484</th>\n",
       "      <td>480</td>\n",
       "      <td>train strike grips buenos aires a strike on th...</td>\n",
       "      <td>business</td>\n",
       "    </tr>\n",
       "    <tr>\n",
       "      <th>978</th>\n",
       "      <td>1755</td>\n",
       "      <td>home phones face unclear future the fixed line...</td>\n",
       "      <td>tech</td>\n",
       "    </tr>\n",
       "  </tbody>\n",
       "</table>\n",
       "</div>"
      ],
      "text/plain": [
       "      ArticleId                                               Text  \\\n",
       "646         758  qwest may spark mci bidding war us phone compa...   \n",
       "281         513  digital guru floats sub-$100 pc nicholas negro...   \n",
       "1038       1988  tories unveil quango blitz plans plans to abol...   \n",
       "199         559  mcilroy continues winning streak james mcilroy...   \n",
       "585        1846  rescue hope for borussia dortmund shares in st...   \n",
       "766         982  tutu s guantanamo release call archbishop desm...   \n",
       "1308        912  warning over tsunami aid website net users are...   \n",
       "1059       1363  mobile multimedia slow to catch on there is no...   \n",
       "551        2023  us data sparks inflation worries wholesale pri...   \n",
       "1190       1186  rich pickings for hi-tech thieves viruses  tro...   \n",
       "520         492  new york rockers top talent poll new york elec...   \n",
       "88          699  britain boosted by holmes double athletics fan...   \n",
       "634        1728  serena ends sania mirza s dream sania mirza  t...   \n",
       "1204        923  budget aston takes on porsche british car make...   \n",
       "990         199  portable playstation ready to go sony s playst...   \n",
       "34          466  philippoussis doubt over open bid mark philipp...   \n",
       "154        2044  the year search became personal the odds are t...   \n",
       "73         1971  balco case trial date pushed back the trial da...   \n",
       "484         480  train strike grips buenos aires a strike on th...   \n",
       "978        1755  home phones face unclear future the fixed line...   \n",
       "\n",
       "           Category  \n",
       "646        business  \n",
       "281            tech  \n",
       "1038       politics  \n",
       "199           sport  \n",
       "585        business  \n",
       "766        politics  \n",
       "1308           tech  \n",
       "1059           tech  \n",
       "551        business  \n",
       "1190           tech  \n",
       "520   entertainment  \n",
       "88            sport  \n",
       "634           sport  \n",
       "1204       business  \n",
       "990            tech  \n",
       "34            sport  \n",
       "154            tech  \n",
       "73            sport  \n",
       "484        business  \n",
       "978            tech  "
      ]
     },
     "execution_count": 3,
     "metadata": {},
     "output_type": "execute_result"
    }
   ],
   "source": [
    "# some samples from training data\n",
    "train.sample(20)"
   ]
  },
  {
   "cell_type": "code",
   "execution_count": 4,
   "metadata": {
    "collapsed": false,
    "jupyter": {
     "outputs_hidden": false
    }
   },
   "outputs": [
    {
     "data": {
      "text/html": [
       "<div>\n",
       "<style scoped>\n",
       "    .dataframe tbody tr th:only-of-type {\n",
       "        vertical-align: middle;\n",
       "    }\n",
       "\n",
       "    .dataframe tbody tr th {\n",
       "        vertical-align: top;\n",
       "    }\n",
       "\n",
       "    .dataframe thead th {\n",
       "        text-align: right;\n",
       "    }\n",
       "</style>\n",
       "<table border=\"1\" class=\"dataframe\">\n",
       "  <thead>\n",
       "    <tr style=\"text-align: right;\">\n",
       "      <th></th>\n",
       "      <th>ArticleId</th>\n",
       "      <th>Text</th>\n",
       "    </tr>\n",
       "  </thead>\n",
       "  <tbody>\n",
       "    <tr>\n",
       "      <th>0</th>\n",
       "      <td>1018</td>\n",
       "      <td>qpr keeper day heads for preston queens park r...</td>\n",
       "    </tr>\n",
       "    <tr>\n",
       "      <th>1</th>\n",
       "      <td>1319</td>\n",
       "      <td>software watching while you work software that...</td>\n",
       "    </tr>\n",
       "    <tr>\n",
       "      <th>2</th>\n",
       "      <td>1138</td>\n",
       "      <td>d arcy injury adds to ireland woe gordon d arc...</td>\n",
       "    </tr>\n",
       "    <tr>\n",
       "      <th>3</th>\n",
       "      <td>459</td>\n",
       "      <td>india s reliance family feud heats up the ongo...</td>\n",
       "    </tr>\n",
       "    <tr>\n",
       "      <th>4</th>\n",
       "      <td>1020</td>\n",
       "      <td>boro suffer morrison injury blow middlesbrough...</td>\n",
       "    </tr>\n",
       "    <tr>\n",
       "      <th>5</th>\n",
       "      <td>51</td>\n",
       "      <td>lewsey puzzle over disallowed try england s jo...</td>\n",
       "    </tr>\n",
       "    <tr>\n",
       "      <th>6</th>\n",
       "      <td>2025</td>\n",
       "      <td>blair blasts tory spending plans tony blair ha...</td>\n",
       "    </tr>\n",
       "    <tr>\n",
       "      <th>7</th>\n",
       "      <td>1479</td>\n",
       "      <td>former ni minister scott dies former northern ...</td>\n",
       "    </tr>\n",
       "    <tr>\n",
       "      <th>8</th>\n",
       "      <td>27</td>\n",
       "      <td>career honour for actor dicaprio actor leonard...</td>\n",
       "    </tr>\n",
       "    <tr>\n",
       "      <th>9</th>\n",
       "      <td>397</td>\n",
       "      <td>tsunami  to hit sri lanka banks  sri lanka s b...</td>\n",
       "    </tr>\n",
       "    <tr>\n",
       "      <th>10</th>\n",
       "      <td>1644</td>\n",
       "      <td>us economy still growing says fed most areas o...</td>\n",
       "    </tr>\n",
       "    <tr>\n",
       "      <th>11</th>\n",
       "      <td>263</td>\n",
       "      <td>digital uk driven by net and tv the uk s adopt...</td>\n",
       "    </tr>\n",
       "    <tr>\n",
       "      <th>12</th>\n",
       "      <td>765</td>\n",
       "      <td>blunkett tells of love and pain david blunkett...</td>\n",
       "    </tr>\n",
       "    <tr>\n",
       "      <th>13</th>\n",
       "      <td>2134</td>\n",
       "      <td>ibm puts cash behind linux push ibm is spendin...</td>\n",
       "    </tr>\n",
       "    <tr>\n",
       "      <th>14</th>\n",
       "      <td>297</td>\n",
       "      <td>cage film s third week at us top nicolas cage ...</td>\n",
       "    </tr>\n",
       "    <tr>\n",
       "      <th>15</th>\n",
       "      <td>1712</td>\n",
       "      <td>souness backs smith for scotland graeme sounes...</td>\n",
       "    </tr>\n",
       "    <tr>\n",
       "      <th>16</th>\n",
       "      <td>1631</td>\n",
       "      <td>ukip mep attacked german  empire  a uk indepen...</td>\n",
       "    </tr>\n",
       "    <tr>\n",
       "      <th>17</th>\n",
       "      <td>942</td>\n",
       "      <td>cheaper chip for mobiles a mobile phone chip w...</td>\n",
       "    </tr>\n",
       "    <tr>\n",
       "      <th>18</th>\n",
       "      <td>1549</td>\n",
       "      <td>usher leads soul train shortlist chart-topping...</td>\n",
       "    </tr>\n",
       "    <tr>\n",
       "      <th>19</th>\n",
       "      <td>516</td>\n",
       "      <td>india to deport bollywood actress india has or...</td>\n",
       "    </tr>\n",
       "  </tbody>\n",
       "</table>\n",
       "</div>"
      ],
      "text/plain": [
       "    ArticleId                                               Text\n",
       "0        1018  qpr keeper day heads for preston queens park r...\n",
       "1        1319  software watching while you work software that...\n",
       "2        1138  d arcy injury adds to ireland woe gordon d arc...\n",
       "3         459  india s reliance family feud heats up the ongo...\n",
       "4        1020  boro suffer morrison injury blow middlesbrough...\n",
       "5          51  lewsey puzzle over disallowed try england s jo...\n",
       "6        2025  blair blasts tory spending plans tony blair ha...\n",
       "7        1479  former ni minister scott dies former northern ...\n",
       "8          27  career honour for actor dicaprio actor leonard...\n",
       "9         397  tsunami  to hit sri lanka banks  sri lanka s b...\n",
       "10       1644  us economy still growing says fed most areas o...\n",
       "11        263  digital uk driven by net and tv the uk s adopt...\n",
       "12        765  blunkett tells of love and pain david blunkett...\n",
       "13       2134  ibm puts cash behind linux push ibm is spendin...\n",
       "14        297  cage film s third week at us top nicolas cage ...\n",
       "15       1712  souness backs smith for scotland graeme sounes...\n",
       "16       1631  ukip mep attacked german  empire  a uk indepen...\n",
       "17        942  cheaper chip for mobiles a mobile phone chip w...\n",
       "18       1549  usher leads soul train shortlist chart-topping...\n",
       "19        516  india to deport bollywood actress india has or..."
      ]
     },
     "execution_count": 4,
     "metadata": {},
     "output_type": "execute_result"
    }
   ],
   "source": [
    "# some samples from test data\n",
    "test.head(20)"
   ]
  },
  {
   "cell_type": "code",
   "execution_count": 6,
   "metadata": {},
   "outputs": [
    {
     "data": {
      "text/html": [
       "<div>\n",
       "<style scoped>\n",
       "    .dataframe tbody tr th:only-of-type {\n",
       "        vertical-align: middle;\n",
       "    }\n",
       "\n",
       "    .dataframe tbody tr th {\n",
       "        vertical-align: top;\n",
       "    }\n",
       "\n",
       "    .dataframe thead th {\n",
       "        text-align: right;\n",
       "    }\n",
       "</style>\n",
       "<table border=\"1\" class=\"dataframe\">\n",
       "  <thead>\n",
       "    <tr style=\"text-align: right;\">\n",
       "      <th></th>\n",
       "      <th>ArticleId</th>\n",
       "      <th>Category</th>\n",
       "    </tr>\n",
       "  </thead>\n",
       "  <tbody>\n",
       "    <tr>\n",
       "      <th>0</th>\n",
       "      <td>1018</td>\n",
       "      <td>sport</td>\n",
       "    </tr>\n",
       "    <tr>\n",
       "      <th>1</th>\n",
       "      <td>1319</td>\n",
       "      <td>tech</td>\n",
       "    </tr>\n",
       "    <tr>\n",
       "      <th>2</th>\n",
       "      <td>1138</td>\n",
       "      <td>business</td>\n",
       "    </tr>\n",
       "    <tr>\n",
       "      <th>3</th>\n",
       "      <td>459</td>\n",
       "      <td>entertainment</td>\n",
       "    </tr>\n",
       "    <tr>\n",
       "      <th>4</th>\n",
       "      <td>1020</td>\n",
       "      <td>politics</td>\n",
       "    </tr>\n",
       "    <tr>\n",
       "      <th>5</th>\n",
       "      <td>51</td>\n",
       "      <td>sport</td>\n",
       "    </tr>\n",
       "    <tr>\n",
       "      <th>6</th>\n",
       "      <td>2025</td>\n",
       "      <td>tech</td>\n",
       "    </tr>\n",
       "    <tr>\n",
       "      <th>7</th>\n",
       "      <td>1479</td>\n",
       "      <td>business</td>\n",
       "    </tr>\n",
       "    <tr>\n",
       "      <th>8</th>\n",
       "      <td>27</td>\n",
       "      <td>entertainment</td>\n",
       "    </tr>\n",
       "    <tr>\n",
       "      <th>9</th>\n",
       "      <td>397</td>\n",
       "      <td>politics</td>\n",
       "    </tr>\n",
       "    <tr>\n",
       "      <th>10</th>\n",
       "      <td>1644</td>\n",
       "      <td>sport</td>\n",
       "    </tr>\n",
       "    <tr>\n",
       "      <th>11</th>\n",
       "      <td>263</td>\n",
       "      <td>tech</td>\n",
       "    </tr>\n",
       "    <tr>\n",
       "      <th>12</th>\n",
       "      <td>765</td>\n",
       "      <td>business</td>\n",
       "    </tr>\n",
       "    <tr>\n",
       "      <th>13</th>\n",
       "      <td>2134</td>\n",
       "      <td>entertainment</td>\n",
       "    </tr>\n",
       "    <tr>\n",
       "      <th>14</th>\n",
       "      <td>297</td>\n",
       "      <td>politics</td>\n",
       "    </tr>\n",
       "    <tr>\n",
       "      <th>15</th>\n",
       "      <td>1712</td>\n",
       "      <td>sport</td>\n",
       "    </tr>\n",
       "    <tr>\n",
       "      <th>16</th>\n",
       "      <td>1631</td>\n",
       "      <td>tech</td>\n",
       "    </tr>\n",
       "    <tr>\n",
       "      <th>17</th>\n",
       "      <td>942</td>\n",
       "      <td>business</td>\n",
       "    </tr>\n",
       "    <tr>\n",
       "      <th>18</th>\n",
       "      <td>1549</td>\n",
       "      <td>entertainment</td>\n",
       "    </tr>\n",
       "    <tr>\n",
       "      <th>19</th>\n",
       "      <td>516</td>\n",
       "      <td>politics</td>\n",
       "    </tr>\n",
       "  </tbody>\n",
       "</table>\n",
       "</div>"
      ],
      "text/plain": [
       "    ArticleId       Category\n",
       "0        1018          sport\n",
       "1        1319           tech\n",
       "2        1138       business\n",
       "3         459  entertainment\n",
       "4        1020       politics\n",
       "5          51          sport\n",
       "6        2025           tech\n",
       "7        1479       business\n",
       "8          27  entertainment\n",
       "9         397       politics\n",
       "10       1644          sport\n",
       "11        263           tech\n",
       "12        765       business\n",
       "13       2134  entertainment\n",
       "14        297       politics\n",
       "15       1712          sport\n",
       "16       1631           tech\n",
       "17        942       business\n",
       "18       1549  entertainment\n",
       "19        516       politics"
      ]
     },
     "execution_count": 6,
     "metadata": {},
     "output_type": "execute_result"
    }
   ],
   "source": [
    "# some samples from solution_sample dataset\n",
    "solution_sample.head(20)"
   ]
  },
  {
   "cell_type": "code",
   "execution_count": 7,
   "metadata": {
    "collapsed": false,
    "jupyter": {
     "outputs_hidden": false
    }
   },
   "outputs": [
    {
     "data": {
      "text/plain": [
       "(1490, 3)"
      ]
     },
     "execution_count": 7,
     "metadata": {},
     "output_type": "execute_result"
    }
   ],
   "source": [
    "# number of rows and columns in training dataset\n",
    "train.shape"
   ]
  },
  {
   "cell_type": "code",
   "execution_count": 8,
   "metadata": {
    "collapsed": false,
    "jupyter": {
     "outputs_hidden": false
    }
   },
   "outputs": [
    {
     "data": {
      "text/plain": [
       "(735, 2)"
      ]
     },
     "execution_count": 8,
     "metadata": {},
     "output_type": "execute_result"
    }
   ],
   "source": [
    "# number of rows and columns in test dataset\n",
    "test.shape"
   ]
  },
  {
   "cell_type": "code",
   "execution_count": 9,
   "metadata": {},
   "outputs": [
    {
     "name": "stdout",
     "output_type": "stream",
     "text": [
      "<class 'pandas.core.frame.DataFrame'>\n",
      "RangeIndex: 1490 entries, 0 to 1489\n",
      "Data columns (total 3 columns):\n",
      " #   Column     Non-Null Count  Dtype \n",
      "---  ------     --------------  ----- \n",
      " 0   ArticleId  1490 non-null   int64 \n",
      " 1   Text       1490 non-null   object\n",
      " 2   Category   1490 non-null   object\n",
      "dtypes: int64(1), object(2)\n",
      "memory usage: 35.0+ KB\n"
     ]
    }
   ],
   "source": [
    "# check datset for null values \n",
    "train.info()"
   ]
  },
  {
   "cell_type": "code",
   "execution_count": 10,
   "metadata": {},
   "outputs": [
    {
     "name": "stdout",
     "output_type": "stream",
     "text": [
      "<class 'pandas.core.frame.DataFrame'>\n",
      "RangeIndex: 735 entries, 0 to 734\n",
      "Data columns (total 2 columns):\n",
      " #   Column     Non-Null Count  Dtype \n",
      "---  ------     --------------  ----- \n",
      " 0   ArticleId  735 non-null    int64 \n",
      " 1   Text       735 non-null    object\n",
      "dtypes: int64(1), object(1)\n",
      "memory usage: 11.6+ KB\n"
     ]
    }
   ],
   "source": [
    "test.info()"
   ]
  },
  {
   "cell_type": "markdown",
   "metadata": {},
   "source": [
    "There are no null data in the training and test dataset"
   ]
  },
  {
   "cell_type": "code",
   "execution_count": 11,
   "metadata": {},
   "outputs": [
    {
     "data": {
      "text/plain": [
       "Text(0.5, 0, 'Category')"
      ]
     },
     "execution_count": 11,
     "metadata": {},
     "output_type": "execute_result"
    },
    {
     "data": {
      "image/png": "[encoded data removed]",
      "text/plain": [
       "<Figure size 640x480 with 1 Axes>"
      ]
     },
     "metadata": {},
     "output_type": "display_data"
    }
   ],
   "source": [
    "# plot count per category in trainng daset \n",
    "train.groupby('Category').ArticleId.count().plot.bar(ylim=0)\n",
    "plt.title(\"Number of articles in each category in training data\")\n",
    "plt.ylabel('Count')\n",
    "plt.xlabel('Category')"
   ]
  },
  {
   "cell_type": "markdown",
   "metadata": {},
   "source": [
    "training datset is relatively balance between different categories"
   ]
  },
  {
   "cell_type": "code",
   "execution_count": 12,
   "metadata": {},
   "outputs": [
    {
     "data": {
      "text/plain": [
       "Text(0.5, 0, 'Number of words')"
      ]
     },
     "execution_count": 12,
     "metadata": {},
     "output_type": "execute_result"
    },
    {
     "data": {
      "image/png": "[encoded data removed]",
      "text/plain": [
       "<Figure size 640x480 with 1 Axes>"
      ]
     },
     "metadata": {},
     "output_type": "display_data"
    }
   ],
   "source": [
    "# plot histogram of number of words per article in training datraset\n",
    "plt.hist(train.Text.astype(str).apply(lambda x: len(x.split())),bins=50)\n",
    "# plt.legend(loc=\"upper right\")\n",
    "plt.title(\"Number of words in article\")\n",
    "plt.ylabel('Count')\n",
    "plt.xlabel('Number of words')"
   ]
  },
  {
   "cell_type": "markdown",
   "metadata": {},
   "source": [
    "the mode of the histogram of the number of words per article is about 300 words"
   ]
  },
  {
   "cell_type": "code",
   "execution_count": 13,
   "metadata": {},
   "outputs": [
    {
     "data": {
      "image/png": "[encoded data removed]",
      "text/plain": [
       "<Figure size 1500x500 with 1 Axes>"
      ]
     },
     "metadata": {},
     "output_type": "display_data"
    }
   ],
   "source": [
    "# plot number of words per article in each category\n",
    "fig, ax = plt.subplots(figsize=(15, 5))\n",
    "sns.boxplot(\n",
    "    data = train, \n",
    "    x = train.Text.astype(str).apply(lambda x: len(x.split())), \n",
    "    y = 'Category',\n",
    "    ).set(\n",
    "        title = 'Number of Words Per Category');"
   ]
  },
  {
   "cell_type": "markdown",
   "metadata": {},
   "source": [
    "Entertaiment and busiines have the lower average number of words, while tech has the highest"
   ]
  },
  {
   "cell_type": "markdown",
   "metadata": {},
   "source": [
    "-------------\n",
    "Data Cleaning\n",
    "------------"
   ]
  },
  {
   "cell_type": "markdown",
   "metadata": {},
   "source": [
    "To avoid extra complication, I remove all the punctuations and change all letters to lowercase in all articles in the training and test datasets\n",
    "\n"
   ]
  },
  {
   "cell_type": "code",
   "execution_count": 14,
   "metadata": {},
   "outputs": [],
   "source": [
    "train['Text'] = train['Text'].str.lower()\n",
    "train['Text'] = train['Text'].str.translate(str.maketrans('', '', string.punctuation))\n",
    "\n",
    "test['Text'] = test['Text'].str.lower()\n",
    "test['Text'] = test['Text'].str.translate(str.maketrans('', '', string.punctuation))"
   ]
  },
  {
   "cell_type": "markdown",
   "metadata": {},
   "source": [
    "--------------\n",
    "TF-IDF vectorization\n",
    "--------------------\n",
    "Then, I calculate a tf-idf (Term Frequency - Inverse Document Frequency) vector for each of the articles using sklearn.feature_extraction.text.TfidfVectorizer \n",
    "\n",
    "After some iterations on the parameters, I found that the following parameters give the best results:\n",
    "- sublinear_df: True to use a logarithmic form for frequency\n",
    "- min_df (minimum numbers of documents in which a word must be present, to avoid rare words): 5\n",
    "- norm for the putput rows: \"l2\"\n",
    "- encoding: \"latin-1\"\n",
    "- ngram_range: (1, 2) indicating that we want to consider both single words and pair of words\n",
    "- stop_words: \"english\", to remove all english common pronouns"
   ]
  },
  {
   "cell_type": "code",
   "execution_count": 15,
   "metadata": {},
   "outputs": [
    {
     "data": {
      "text/plain": [
       "(1490, 9817)"
      ]
     },
     "execution_count": 15,
     "metadata": {},
     "output_type": "execute_result"
    }
   ],
   "source": [
    "tfidf = TfidfVectorizer(sublinear_tf=True, min_df=5, norm='l2', encoding='latin-1', ngram_range=(1, 2), stop_words='english')\n",
    "\n",
    "train_features = tfidf.fit_transform(train.Text).toarray()\n",
    "train_labels = train.Category\n",
    "train_features.shape"
   ]
  },
  {
   "cell_type": "markdown",
   "metadata": {},
   "source": [
    "We have 9817 features"
   ]
  },
  {
   "cell_type": "markdown",
   "metadata": {},
   "source": [
    "Some random sampling of the features, you can see that there are both single and pair words:"
   ]
  },
  {
   "cell_type": "code",
   "execution_count": 16,
   "metadata": {},
   "outputs": [
    {
     "data": {
      "text/plain": [
       "array(['tackle problem', 'bureaucracy', 'enable', 'specific', 'piece',\n",
       "       'legal action', 'mercedes', 'david beckham', 'newspaper saying',\n",
       "       'quest', 'portrayal', 'surpassed', 'book', 'predict', 'funny',\n",
       "       'summer', 'published', 'porto', 'said comment', 'wouldn'],\n",
       "      dtype=object)"
      ]
     },
     "execution_count": 16,
     "metadata": {},
     "output_type": "execute_result"
    }
   ],
   "source": [
    "train_features_names = np.array(tfidf.get_feature_names_out())\n",
    "np.random.choice(train_features_names, 20)"
   ]
  },
  {
   "cell_type": "markdown",
   "metadata": {},
   "source": [
    "I also transform the test datset based on the 9817 features"
   ]
  },
  {
   "cell_type": "code",
   "execution_count": 17,
   "metadata": {},
   "outputs": [
    {
     "data": {
      "text/plain": [
       "(735, 9817)"
      ]
     },
     "execution_count": 17,
     "metadata": {},
     "output_type": "execute_result"
    }
   ],
   "source": [
    "test_features = tfidf.transform(test.Text).toarray()\n",
    "test_features.shape"
   ]
  },
  {
   "cell_type": "markdown",
   "metadata": {},
   "source": [
    "------------\n",
    "Unsupervised learing: NMF\n",
    "------------"
   ]
  },
  {
   "cell_type": "markdown",
   "metadata": {},
   "source": [
    "A function to find best matching label ordering based on the accuracy."
   ]
  },
  {
   "cell_type": "code",
   "execution_count": 18,
   "metadata": {},
   "outputs": [],
   "source": [
    "def label_permute_compare(ytdf,yp,n=5):\n",
    "    \"\"\"\n",
    "    ytdf: labels dataframe object\n",
    "    yp: clustering label prediction output\n",
    "    Returns permuted label order and accuracy. \n",
    "    Example output: (3, 4, 1, 2, 0), 0.74 \n",
    "    \"\"\"\n",
    "\n",
    "    # label_string = np.unique(ytdf).tolist()\n",
    "    label_string = ['business', 'tech', 'politics', 'sport', 'entertainment']\n",
    "\n",
    "    acc_max = 0\n",
    "    labelorder=[]\n",
    "\n",
    "    for i in list(itertools.permutations([0, 1, 2, 3, 4])):\n",
    "        label_int = {label: idx for idx, label in zip(i,label_string)}\n",
    "        ytdf_copy = ytdf.copy()\n",
    "        ytdf_copy['Category'] = ytdf_copy['Category'].map(label_int)\n",
    "        acc = accuracy_score(ytdf_copy, yp)\n",
    "        \n",
    "        if acc > acc_max:\n",
    "            acc_max = acc\n",
    "            labelorder = i\n",
    "    return labelorder, acc_max"
   ]
  },
  {
   "cell_type": "markdown",
   "metadata": {},
   "source": [
    "training the NMF modelwith the follwoing parameters. NMF model: X = W*H"
   ]
  },
  {
   "cell_type": "code",
   "execution_count": 19,
   "metadata": {},
   "outputs": [],
   "source": [
    "nmf_model = NMF(n_components=5, init='nndsvda', solver = 'mu', beta_loss = 'kullback-leibler', l1_ratio = 0.5, random_state = 42)\n",
    "nmf_model.fit(train_features)\n",
    "W = nmf_model.transform(train_features)\n",
    "H = nmf_model.components_"
   ]
  },
  {
   "cell_type": "markdown",
   "metadata": {},
   "source": [
    "inspect the dominant topic for each article by finding the largest value of each row in matrix W."
   ]
  },
  {
   "cell_type": "code",
   "execution_count": 20,
   "metadata": {},
   "outputs": [],
   "source": [
    "n_articles, n_topics = W.shape\n",
    "W_sorted = np.argsort(W)\n",
    "predictions = [[W_sorted[i][n_topics - 1]] for i in range(n_articles)]\n",
    "yhat_train_NMF = [predictions[i][0] for i in range(n_articles)]"
   ]
  },
  {
   "cell_type": "code",
   "execution_count": 21,
   "metadata": {},
   "outputs": [
    {
     "name": "stdout",
     "output_type": "stream",
     "text": [
      "label_order= (4, 0, 2, 1, 3) accuracy= 0.9704697986577181\n"
     ]
    }
   ],
   "source": [
    "label_order, accuracy = label_permute_compare(pd.DataFrame(train, columns=['Category']), yhat_train_NMF )\n",
    "\n",
    "print('label_order=', label_order, 'accuracy=', accuracy)"
   ]
  },
  {
   "cell_type": "markdown",
   "metadata": {},
   "source": [
    "The accuracy on the training datset is 0.970"
   ]
  },
  {
   "cell_type": "code",
   "execution_count": 29,
   "metadata": {},
   "outputs": [],
   "source": [
    "# dictionary for the categories\n",
    "labels= {4:'business', 0:'tech', 2:'politics', 1:'sport', 3:'entertainment'}"
   ]
  },
  {
   "cell_type": "markdown",
   "metadata": {},
   "source": [
    "transform the test dataset, predict the category and prepare the subission file for keggle"
   ]
  },
  {
   "cell_type": "code",
   "execution_count": 23,
   "metadata": {},
   "outputs": [],
   "source": [
    "W = nmf_model.transform(test_features)\n",
    "\n",
    "n_articles, n_topics = W.shape\n",
    "W_sorted = np.argsort(W)\n",
    "predictions = [[W_sorted[i][n_topics - 1]] for i in range(n_articles)]\n",
    "yhat_test_NMF = [predictions[i][0] for i in range(n_articles)]\n",
    "\n",
    "submission_NMF = pd.DataFrame(columns=['ArticleId', 'Category'])\n",
    "submission_NMF['ArticleId'] = test['ArticleId']\n",
    "submission_NMF['Category'] = yhat_test_NMF\n",
    "submission_NMF['Category'] = submission_NMF['Category'].apply(lambda i: labels[i])\n",
    "\n",
    "submission_NMF.to_csv('submission_NMF.csv', index=False)"
   ]
  },
  {
   "cell_type": "markdown",
   "metadata": {},
   "source": [
    "Below is an screenshot of the score after submission: 0.962"
   ]
  },
  {
   "attachments": {
    "c0596428-a68f-4621-b74b-0a86338850a0.png": {
     "image/png": "[encoded data removed]"
    }
   },
   "cell_type": "markdown",
   "metadata": {},
   "source": [
    "![image.png](attachment:c0596428-a68f-4621-b74b-0a86338850a0.png)"
   ]
  },
  {
   "cell_type": "markdown",
   "metadata": {},
   "source": [
    "change the beta_loss to 'frobenius'"
   ]
  },
  {
   "cell_type": "code",
   "execution_count": 26,
   "metadata": {},
   "outputs": [
    {
     "name": "stdout",
     "output_type": "stream",
     "text": [
      "label_order= (4, 0, 2, 1, 3) accuracy= 0.9476510067114094\n"
     ]
    }
   ],
   "source": [
    "nmf_model = NMF(n_components=5, init='nndsvda', solver = 'mu', beta_loss = 'frobenius', l1_ratio = 0.5, random_state = 42)\n",
    "nmf_model.fit(train_features)\n",
    "W = nmf_model.transform(train_features)\n",
    "H = nmf_model.components_\n",
    "n_articles, n_topics = W.shape\n",
    "W_sorted = np.argsort(W)\n",
    "predictions = [[W_sorted[i][n_topics - 1]] for i in range(n_articles)]\n",
    "yhat_train_NMF = [predictions[i][0] for i in range(n_articles)]\n",
    "label_order, accuracy = label_permute_compare(pd.DataFrame(train, columns=['Category']), yhat_train_NMF )\n",
    "print('label_order=', label_order, 'accuracy=', accuracy)"
   ]
  },
  {
   "cell_type": "markdown",
   "metadata": {},
   "source": [
    "The accuracy on the training datset is 0.948, so lower than 'kullback-leibler' beta_loss"
   ]
  },
  {
   "cell_type": "code",
   "execution_count": 27,
   "metadata": {},
   "outputs": [],
   "source": [
    "# dictionary for the categories\n",
    "labels= {4:'business', 0:'tech', 2:'politics', 1:'sport', 3:'entertainment'}"
   ]
  },
  {
   "cell_type": "code",
   "execution_count": 28,
   "metadata": {},
   "outputs": [],
   "source": [
    "W = nmf_model.transform(test_features)\n",
    "\n",
    "n_articles, n_topics = W.shape\n",
    "W_sorted = np.argsort(W)\n",
    "predictions = [[W_sorted[i][n_topics - 1]] for i in range(n_articles)]\n",
    "yhat_test_NMF = [predictions[i][0] for i in range(n_articles)]\n",
    "\n",
    "submission_NMF = pd.DataFrame(columns=['ArticleId', 'Category'])\n",
    "submission_NMF['ArticleId'] = test['ArticleId']\n",
    "submission_NMF['Category'] = yhat_test_NMF\n",
    "submission_NMF['Category'] = submission_NMF['Category'].apply(lambda i: labels[i])\n",
    "\n",
    "submission_NMF.to_csv('submission_NMF_frobenius.csv', index=False)"
   ]
  },
  {
   "cell_type": "markdown",
   "metadata": {},
   "source": [
    "Below is an screenshot of the score after submission: 0.947, so lower than 'kullback-leibler' beta_loss"
   ]
  },
  {
   "attachments": {
    "8a80a87f-8694-4e4d-9a84-edf7a538845d.png": {
     "image/png": "[encoded data removed]"
    }
   },
   "cell_type": "markdown",
   "metadata": {},
   "source": [
    "![image.png](attachment:8a80a87f-8694-4e4d-9a84-edf7a538845d.png)"
   ]
  },
  {
   "cell_type": "markdown",
   "metadata": {},
   "source": [
    "training on 50% of training datset (745 samples) using 'kullback-leibler' beta_loss"
   ]
  },
  {
   "cell_type": "code",
   "execution_count": 32,
   "metadata": {},
   "outputs": [
    {
     "name": "stdout",
     "output_type": "stream",
     "text": [
      "label_order= (3, 2, 0, 1, 4) accuracy= 0.9610738255033557\n"
     ]
    }
   ],
   "source": [
    "idx = np.random.choice(np.arange(len(train_features)), 745, replace=False)\n",
    "train_features_50 = train_features[idx]\n",
    "train_labels_50 = train_labels[idx]\n",
    "\n",
    "nmf_model_50 = NMF(n_components=5, init='nndsvda', solver = 'mu', beta_loss = 'kullback-leibler', l1_ratio = 0.5, random_state = 42)\n",
    "nmf_model_50.fit(train_features_50)\n",
    "W = nmf_model_50.transform(train_features_50)\n",
    "H = nmf_model_50.components_\n",
    "n_articles, n_topics = W.shape\n",
    "W_sorted = np.argsort(W)\n",
    "predictions = [[W_sorted[i][n_topics - 1]] for i in range(n_articles)]\n",
    "yhat_train_NMF = [predictions[i][0] for i in range(n_articles)]\n",
    "label_order, accuracy = label_permute_compare(pd.DataFrame(train.iloc[idx], columns=['Category']), yhat_train_NMF )\n",
    "print('label_order=', label_order, 'accuracy=', accuracy)"
   ]
  },
  {
   "cell_type": "markdown",
   "metadata": {},
   "source": [
    "The accuracy on the training datset is 0.961, which is slightly reduced compared to the training on full trainng datset"
   ]
  },
  {
   "cell_type": "code",
   "execution_count": 34,
   "metadata": {},
   "outputs": [],
   "source": [
    "# dictionary for the categories\n",
    "labels= {3:'business', 2:'tech', 0:'politics', 1:'sport', 4:'entertainment'}"
   ]
  },
  {
   "cell_type": "code",
   "execution_count": 35,
   "metadata": {},
   "outputs": [],
   "source": [
    "W = nmf_model_50.transform(test_features)\n",
    "\n",
    "n_articles, n_topics = W.shape\n",
    "W_sorted = np.argsort(W)\n",
    "predictions = [[W_sorted[i][n_topics - 1]] for i in range(n_articles)]\n",
    "yhat_test_NMF = [predictions[i][0] for i in range(n_articles)]\n",
    "\n",
    "submission_NMF = pd.DataFrame(columns=['ArticleId', 'Category'])\n",
    "submission_NMF['ArticleId'] = test['ArticleId']\n",
    "submission_NMF['Category'] = yhat_test_NMF\n",
    "submission_NMF['Category'] = submission_NMF['Category'].apply(lambda i: labels[i])\n",
    "\n",
    "submission_NMF.to_csv('submission_NMF_50.csv', index=False)"
   ]
  },
  {
   "cell_type": "markdown",
   "metadata": {},
   "source": [
    "Below is an screenshot of the score after submission: 0.947, which is slightly reduced compared to the training on full trainng datset"
   ]
  },
  {
   "attachments": {
    "05712b5d-e1d1-4811-a1cd-f18d1dd7f9a7.png": {
     "image/png": "[encoded data removed]"
    }
   },
   "cell_type": "markdown",
   "metadata": {},
   "source": [
    "![image.png](attachment:05712b5d-e1d1-4811-a1cd-f18d1dd7f9a7.png)"
   ]
  },
  {
   "cell_type": "markdown",
   "metadata": {},
   "source": [
    "training on 10% of training datset (149 samples) using 'kullback-leibler' beta_loss"
   ]
  },
  {
   "cell_type": "code",
   "execution_count": 37,
   "metadata": {},
   "outputs": [
    {
     "name": "stdout",
     "output_type": "stream",
     "text": [
      "label_order= (0, 4, 1, 2, 3) accuracy= 0.5637583892617449\n"
     ]
    }
   ],
   "source": [
    "idx = np.random.choice(np.arange(len(train_features)), 149, replace=False)\n",
    "train_features_10 = train_features[idx]\n",
    "train_labels_10 = train_labels[idx]\n",
    "\n",
    "nmf_model_10 = NMF(n_components=5, init='nndsvda', solver = 'mu', beta_loss = 'kullback-leibler', l1_ratio = 0.5, random_state = 42)\n",
    "nmf_model_10.fit(train_features_10)\n",
    "W = nmf_model_10.transform(train_features_10)\n",
    "H = nmf_model_10.components_\n",
    "n_articles, n_topics = W.shape\n",
    "W_sorted = np.argsort(W)\n",
    "predictions = [[W_sorted[i][n_topics - 1]] for i in range(n_articles)]\n",
    "yhat_train_NMF = [predictions[i][0] for i in range(n_articles)]\n",
    "label_order, accuracy = label_permute_compare(pd.DataFrame(train.iloc[idx], columns=['Category']), yhat_train_NMF )\n",
    "print('label_order=', label_order, 'accuracy=', accuracy)"
   ]
  },
  {
   "cell_type": "markdown",
   "metadata": {},
   "source": [
    "The accuracy on the training datset is 0.564, which is significantly reduced compared to the training on full trainng datset"
   ]
  },
  {
   "cell_type": "code",
   "execution_count": 38,
   "metadata": {},
   "outputs": [],
   "source": [
    "# dictionary for the categories\n",
    "labels= {0:'business', 4:'tech', 1:'politics', 2:'sport', 3:'entertainment'}"
   ]
  },
  {
   "cell_type": "code",
   "execution_count": 39,
   "metadata": {},
   "outputs": [],
   "source": [
    "W = nmf_model_10.transform(test_features)\n",
    "\n",
    "n_articles, n_topics = W.shape\n",
    "W_sorted = np.argsort(W)\n",
    "predictions = [[W_sorted[i][n_topics - 1]] for i in range(n_articles)]\n",
    "yhat_test_NMF = [predictions[i][0] for i in range(n_articles)]\n",
    "\n",
    "submission_NMF = pd.DataFrame(columns=['ArticleId', 'Category'])\n",
    "submission_NMF['ArticleId'] = test['ArticleId']\n",
    "submission_NMF['Category'] = yhat_test_NMF\n",
    "submission_NMF['Category'] = submission_NMF['Category'].apply(lambda i: labels[i])\n",
    "\n",
    "submission_NMF.to_csv('submission_NMF_10.csv', index=False)"
   ]
  },
  {
   "cell_type": "markdown",
   "metadata": {},
   "source": [
    "Below is an screenshot of the score after submission: 0.611, which is slightly reduced compared to the training on full trainng datset"
   ]
  },
  {
   "attachments": {
    "0f9d760d-bbff-44c4-a785-8e62500e6d25.png": {
     "image/png": "[encoded data removed]"
    }
   },
   "cell_type": "markdown",
   "metadata": {},
   "source": [
    "![image.png](attachment:0f9d760d-bbff-44c4-a785-8e62500e6d25.png)"
   ]
  },
  {
   "cell_type": "markdown",
   "metadata": {},
   "source": [
    "------------\n",
    "Supervised learing: Support vector machine\n",
    "------------"
   ]
  },
  {
   "cell_type": "markdown",
   "metadata": {},
   "source": [
    "As the supervised algorithm, I chose SVM. First I do a grid search on C parameter to find the best value (using cross validation method)"
   ]
  },
  {
   "cell_type": "code",
   "execution_count": null,
   "metadata": {},
   "outputs": [],
   "source": [
    "#### performing grid search on number of estimators and learning rate\n",
    "clf_SVM = SVC()\n",
    "params = {\n",
    "    'C': np.logspace(-5, 5, num=11, endpoint=True, base=2.0, dtype=None, axis=0),\n",
    "}\n",
    "\n",
    "grid_SVM = GridSearchCV(estimator=clf_SVM,param_grid=params, cv=3).fit(train_features, train_labels)"
   ]
  },
  {
   "cell_type": "code",
   "execution_count": 154,
   "metadata": {},
   "outputs": [
    {
     "name": "stdout",
     "output_type": "stream",
     "text": [
      "Best parameters:  {'C': 2.0}\n",
      "best score:  0.973156141147963\n"
     ]
    }
   ],
   "source": [
    "print('Best parameters: ', grid_SVM.best_params_)\n",
    "print('best score: ', grid_SVM.best_score_)"
   ]
  },
  {
   "cell_type": "markdown",
   "metadata": {},
   "source": [
    "The best model is with C=2 with the score of 0.973 on the training datset (cv=3)"
   ]
  },
  {
   "cell_type": "code",
   "execution_count": 26,
   "metadata": {},
   "outputs": [],
   "source": [
    "# predict training categories\n",
    "\n",
    "clf_SVM = SVC(C=2.0)\n",
    "clf_SVM.fit(train_features, train_labels)\n",
    "yhat_SVM = clf_SVM.predict(test_features)"
   ]
  },
  {
   "cell_type": "code",
   "execution_count": 29,
   "metadata": {},
   "outputs": [],
   "source": [
    "# create submission file\n",
    "submission_svm = pd.DataFrame(columns=['ArticleId', 'Category'])\n",
    "submission_svm['ArticleId'] = test['ArticleId']\n",
    "submission_svm['Category'] = yhat_SVM\n",
    "submission_svm.to_csv('submission_svm.csv', index=False)"
   ]
  },
  {
   "cell_type": "markdown",
   "metadata": {},
   "source": [
    "Below is an screenshot of the score after submission: 0.985"
   ]
  },
  {
   "attachments": {
    "e995192c-031f-4841-9d6a-a8a7c4633250.png": {
     "image/png": "[encoded data removed]"
    }
   },
   "cell_type": "markdown",
   "metadata": {},
   "source": [
    "![image.png](attachment:e995192c-031f-4841-9d6a-a8a7c4633250.png)"
   ]
  },
  {
   "cell_type": "markdown",
   "metadata": {},
   "source": [
    "I repeat the same but this time using 50% (745 samples) of the training dataset"
   ]
  },
  {
   "cell_type": "code",
   "execution_count": 32,
   "metadata": {},
   "outputs": [],
   "source": [
    "idx = np.random.choice(np.arange(len(train_features)), 745, replace=False)\n",
    "train_features_50 = train_features[idx]\n",
    "train_labels_50 = train_labels[idx]\n",
    "\n",
    "clf_SVM = SVC(C=2.0)\n",
    "clf_SVM.fit(train_features_50, train_labels_50)\n",
    "yhat_SVM_50 = clf_SVM.predict(test_features)"
   ]
  },
  {
   "cell_type": "code",
   "execution_count": 33,
   "metadata": {},
   "outputs": [],
   "source": [
    "# create submission file\n",
    "submission_svm_50 = pd.DataFrame(columns=['ArticleId', 'Category'])\n",
    "submission_svm_50['ArticleId'] = test['ArticleId']\n",
    "submission_svm_50['Category'] = yhat_SVM_50\n",
    "submission_svm_50.to_csv('submission_svm_50.csv', index=False)"
   ]
  },
  {
   "cell_type": "markdown",
   "metadata": {},
   "source": [
    "Below is an screenshot of the score (training on 50% of data) after submission: 0.973"
   ]
  },
  {
   "attachments": {
    "f9dbc111-1a30-4b59-a77b-532737c06ba3.png": {
     "image/png": "[encoded data removed]"
    }
   },
   "cell_type": "markdown",
   "metadata": {},
   "source": [
    "![image.png](attachment:f9dbc111-1a30-4b59-a77b-532737c06ba3.png)"
   ]
  },
  {
   "cell_type": "markdown",
   "metadata": {},
   "source": [
    "I repeat the same but this time using 10% (149 samples) of the training dataset"
   ]
  },
  {
   "cell_type": "code",
   "execution_count": 35,
   "metadata": {},
   "outputs": [],
   "source": [
    "idx = np.random.choice(np.arange(len(train_features)), 149, replace=False)\n",
    "train_features_10 = train_features[idx]\n",
    "train_labels_10 = train_labels[idx]\n",
    "\n",
    "clf_SVM = SVC(C=2.0)\n",
    "clf_SVM.fit(train_features_10, train_labels_10)\n",
    "yhat_SVM_10 = clf_SVM.predict(test_features)"
   ]
  },
  {
   "cell_type": "code",
   "execution_count": 37,
   "metadata": {},
   "outputs": [],
   "source": [
    "# create submission file\n",
    "submission_svm_10 = pd.DataFrame(columns=['ArticleId', 'Category'])\n",
    "submission_svm_10['ArticleId'] = test['ArticleId']\n",
    "submission_svm_10['Category'] = yhat_SVM_10\n",
    "submission_svm_10.to_csv('submission_svm_10.csv', index=False)"
   ]
  },
  {
   "cell_type": "markdown",
   "metadata": {},
   "source": [
    "Below is an screenshot of the score (training on 10% of data) after submission: 0.853"
   ]
  },
  {
   "attachments": {
    "53cfd658-c523-4699-9ea1-a7a06d174d3a.png": {
     "image/png": "[encoded data removed]"
    }
   },
   "cell_type": "markdown",
   "metadata": {},
   "source": [
    "![image.png](attachment:53cfd658-c523-4699-9ea1-a7a06d174d3a.png)"
   ]
  },
  {
   "cell_type": "markdown",
   "metadata": {},
   "source": [
    "----------------------\n",
    "Conclusion\n",
    "-----------------------"
   ]
  },
  {
   "cell_type": "markdown",
   "metadata": {},
   "source": [
    "| Model | unsup. NMF | unsup. NMF (50% datset) | unsup. NMF (10% datset) | sup. SVM | sup. SVM (50% datset)| sup. SVM  (10% datset)|\n",
    "| --- | --- | --- | --- |--- | --- |--- |\n",
    "| Accuracy on test dataset:| 0.962 | 0.947 | 0.611 |0.985 | 0.973 | 0.853 |\n",
    "\n"
   ]
  },
  {
   "cell_type": "markdown",
   "metadata": {},
   "source": [
    "Above is a table comparison of different models on the test dataset. \n",
    "\n",
    "The results show that, with the full datset, both unsupervised NMF and supervised SVM models had realtively high accuracy (>0.95). Also, in general, as the number of the trainng datset reduces the accuracy of both unsupervised MNF and supervised MNF models reduces, but the reduction is not very significant until lower than 50% of the original datset.\n",
    "\n",
    "In addition, the supervised SVM model had better performance compared to he NMF unsupervised model, especially when the number of training dataset was reduced significantly. This shows that the supervised model has a better data-efficiency compared to the unsupervised model. but the difference between the two models decreseas as the number of the traing data increases, potentially due to the negative effects of overfitting in the supervised model.\n",
    "\n",
    "Both models (especially the unsupervised NMF model) can be improved by further hyperparameter tuning.\n",
    "\n"
   ]
  },
  {
   "cell_type": "code",
   "execution_count": null,
   "metadata": {},
   "outputs": [],
   "source": []
  }
 ],
 "metadata": {
  "kernelspec": {
   "display_name": "Python 3 (ipykernel)",
   "language": "python",
   "name": "python3"
  },
  "language_info": {
   "codemirror_mode": {
    "name": "ipython",
    "version": 3
   },
   "file_extension": ".py",
   "mimetype": "text/x-python",
   "name": "python",
   "nbconvert_exporter": "python",
   "pygments_lexer": "ipython3",
   "version": "3.10.12"
  }
 },
 "nbformat": 4,
 "nbformat_minor": 4
}
